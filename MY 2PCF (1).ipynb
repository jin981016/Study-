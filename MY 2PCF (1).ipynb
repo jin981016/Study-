{
 "cells": [
  {
   "cell_type": "code",
   "execution_count": 69,
   "id": "cb00e433",
   "metadata": {},
   "outputs": [],
   "source": [
    "import numpy as np\n",
    "import matplotlib.pyplot as plt\n",
    "import pandas as pd\n",
    "from mpl_toolkits.mplot3d import axes3d\n",
    "from matplotlib.gridspec import GridSpec\n",
    "from tqdm.notebook import tqdm\n",
    "from scipy import stats"
   ]
  },
  {
   "cell_type": "code",
   "execution_count": 3,
   "id": "72d510ea",
   "metadata": {},
   "outputs": [],
   "source": [
    "# c0 = mock1['gal_type'] == 'centrals'\n",
    "# c1 = mock1['gal_type'] == 'active_satellites'\n",
    "# c2 = mock1['gal_type'] == 'quiescent_satellites'\n",
    "\n",
    "# cen = mock1.loc[c0]\n",
    "# act = mock1.loc[c1]\n",
    "# qui = mock1.loc[c2]\n"
   ]
  },
  {
   "cell_type": "code",
   "execution_count": 10,
   "id": "74abc1be",
   "metadata": {},
   "outputs": [],
   "source": [
    "# tt = mock1[['x','y','z']]\n",
    "# tt.to_csv(r'/home/jin/바탕화면/FCFC-main/mock1.txt',index=False,sep='\\t')\n",
    "# x = mock1['x'] \n",
    "# y = mock1['y']\n",
    "# z = mock1['z']\n",
    "# DR_x = stats.uniform(x.min(),x.max()).rvs(len(x)*10)\n",
    "# DR_y = stats.uniform(y.min(),y.max()).rvs(len(y)*10)\n",
    "# DR_z = stats.uniform(z.min(),z.max()).rvs(len(z)*10)\n",
    "\n",
    "# RR = pd.DataFrame() ## 1. 데이터 초기화\n",
    "# RR['X'] = DR_x\n",
    "# RR['Y'] = DR_y\n",
    "# RR['Z'] = DR_z \n",
    "# RR.to_csv(r'/home/jin/바탕화면/FCFC-main/mock1_RR.txt',index=False,sep='\\t')"
   ]
  },
  {
   "cell_type": "code",
   "execution_count": 6,
   "id": "83f1c172",
   "metadata": {},
   "outputs": [],
   "source": [
    "# tt = mock2[['x','y','z']]\n",
    "# tt.to_csv(r'/home/jin/바탕화면/FCFC-main/mock2.txt',index=False,sep='\\t')\n",
    "# x = mock2['x'] \n",
    "# y = mock2['y']\n",
    "# z = mock2['z']\n",
    "# DR_x = stats.uniform(x.min(),x.max()).rvs(len(x)*10)\n",
    "# DR_y = stats.uniform(y.min(),y.max()).rvs(len(y)*10)\n",
    "# DR_z = stats.uniform(z.min(),z.max()).rvs(len(z)*10)\n",
    "\n",
    "# RR = pd.DataFrame() ## 1. 데이터 초기화\n",
    "# RR['X'] = DR_x\n",
    "# RR['Y'] = DR_y\n",
    "# RR['Z'] = DR_z \n",
    "# RR.to_csv(r'/home/jin/바탕화면/FCFC-main/mock2_RR.txt',index=False,sep='\\t')"
   ]
  },
  {
   "cell_type": "code",
   "execution_count": 7,
   "id": "1d59ec3f",
   "metadata": {},
   "outputs": [],
   "source": [
    "# tt = mock3[['x','y','z']]\n",
    "# tt.to_csv(r'/home/jin/바탕화면/FCFC-main/mock3.txt',index=False,sep='\\t')\n",
    "# x = mock3['x'] \n",
    "# y = mock3['y']\n",
    "# z = mock3['z']\n",
    "# DR_x = stats.uniform(x.min(),x.max()).rvs(len(x)*10)\n",
    "# DR_y = stats.uniform(y.min(),y.max()).rvs(len(y)*10)\n",
    "# DR_z = stats.uniform(z.min(),z.max()).rvs(len(z)*10)\n",
    "\n",
    "# RR = pd.DataFrame() ## 1. 데이터 초기화\n",
    "# RR['X'] = DR_x\n",
    "# RR['Y'] = DR_y\n",
    "# RR['Z'] = DR_z \n",
    "# RR.to_csv(r'/home/jin/바탕화면/FCFC-main/mock3_RR.txt',index=False,sep='\\t')"
   ]
  },
  {
   "cell_type": "code",
   "execution_count": 13,
   "id": "7da368fe",
   "metadata": {},
   "outputs": [],
   "source": [
    "# RR.to_csv(r'/home/jin/바탕화면/FCFC-main/mock1_RR.txt',index=False,sep='\\t')"
   ]
  },
  {
   "cell_type": "code",
   "execution_count": 56,
   "id": "d3f86ebd",
   "metadata": {},
   "outputs": [
    {
     "data": {
      "text/plain": [
       "array([ 35.097164,  34.030483,  11.709581, ..., 189.468781, 175.221924,\n",
       "       175.379547])"
      ]
     },
     "execution_count": 56,
     "metadata": {},
     "output_type": "execute_result"
    }
   ],
   "source": []
  },
  {
   "cell_type": "code",
   "execution_count": 4,
   "id": "5d3ac8b5",
   "metadata": {},
   "outputs": [],
   "source": [
    "mock1 = pd.read_csv(r'/home/jin/다운로드/mock_1_tinker13_threshold2_z_0.695_fullbox.txt',delim_whitespace=True)\n",
    "# mock2 = pd.read_csv(r'/home/jin/다운로드/mock_2_tinker13_threshold2_z_0.695_fullbox.txt',delim_whitespace=True)\n",
    "# mock3 = pd.read_csv(r'/home/jin/다운로드/mock_3_tinker13_threshold2_z_0.695_fullbox.txt',delim_whitespace=True)\n",
    "header = ['x','y','z','vx','vy','vz','gal_type','halo_num_centrais','central_sfr_designation','sfr_designation','halo_num_active_satellites','halo_num_quiescent_satellite','halo_id','halo_mvir','halo_rvir']\n",
    "mock1.columns = header\n",
    "# mock2.columns = header\n",
    "# mock3.columns = header"
   ]
  },
  {
   "cell_type": "code",
   "execution_count": 65,
   "id": "124ddd41",
   "metadata": {},
   "outputs": [
    {
     "data": {
      "application/vnd.jupyter.widget-view+json": {
       "model_id": "f2341f0141c34199b53228a3b3380698",
       "version_major": 2,
       "version_minor": 0
      },
      "text/plain": [
       "0it [00:00, ?it/s]"
      ]
     },
     "metadata": {},
     "output_type": "display_data"
    },
    {
     "data": {
      "application/vnd.jupyter.widget-view+json": {
       "model_id": "2a6e7f0d22ec4f0089db08f805cb5841",
       "version_major": 2,
       "version_minor": 0
      },
      "text/plain": [
       "  0%|          | 0/9855 [00:00<?, ?it/s]"
      ]
     },
     "metadata": {},
     "output_type": "display_data"
    },
    {
     "data": {
      "application/vnd.jupyter.widget-view+json": {
       "model_id": "00a0c60399ae48fe8a6ec54e457c9c02",
       "version_major": 2,
       "version_minor": 0
      },
      "text/plain": [
       "  0%|          | 0/49275 [00:00<?, ?it/s]"
      ]
     },
     "metadata": {},
     "output_type": "display_data"
    },
    {
     "ename": "ValueError",
     "evalue": "operands could not be broadcast together with shapes (40,) (39,) ",
     "output_type": "error",
     "traceback": [
      "\u001b[0;31m---------------------------------------------------------------------------\u001b[0m",
      "\u001b[0;31mValueError\u001b[0m                                Traceback (most recent call last)",
      "Cell \u001b[0;32mIn[65], line 39\u001b[0m\n\u001b[1;32m     36\u001b[0m     xi \u001b[38;5;241m+\u001b[39m\u001b[38;5;241m=\u001b[39m ff\n\u001b[1;32m     38\u001b[0m ss \u001b[38;5;241m=\u001b[39m (bins[\u001b[38;5;241m1\u001b[39m:] \u001b[38;5;241m+\u001b[39m bins[:\u001b[38;5;241m-\u001b[39m\u001b[38;5;241m1\u001b[39m])\u001b[38;5;241m/\u001b[39m\u001b[38;5;241m2\u001b[39m \n\u001b[0;32m---> 39\u001b[0m plt\u001b[38;5;241m.\u001b[39mplot(ss,\u001b[43mxi\u001b[49m\u001b[38;5;241;43m*\u001b[39;49m\u001b[43mss\u001b[49m\u001b[38;5;241m*\u001b[39mss,\u001b[38;5;124m'\u001b[39m\u001b[38;5;124mro\u001b[39m\u001b[38;5;124m'\u001b[39m)\n",
      "File \u001b[0;32m/usr/lib/python3/dist-packages/pandas/core/ops/__init__.py:1048\u001b[0m, in \u001b[0;36m_arith_method_SERIES.<locals>.wrapper\u001b[0;34m(left, right)\u001b[0m\n\u001b[1;32m   1045\u001b[0m     rvalues \u001b[38;5;241m=\u001b[39m rvalues\u001b[38;5;241m.\u001b[39m_values\n\u001b[1;32m   1047\u001b[0m \u001b[38;5;28;01mwith\u001b[39;00m np\u001b[38;5;241m.\u001b[39merrstate(\u001b[38;5;28mall\u001b[39m\u001b[38;5;241m=\u001b[39m\u001b[38;5;124m\"\u001b[39m\u001b[38;5;124mignore\u001b[39m\u001b[38;5;124m\"\u001b[39m):\n\u001b[0;32m-> 1048\u001b[0m     result \u001b[38;5;241m=\u001b[39m \u001b[43mna_op\u001b[49m\u001b[43m(\u001b[49m\u001b[43mlvalues\u001b[49m\u001b[43m,\u001b[49m\u001b[43m \u001b[49m\u001b[43mrvalues\u001b[49m\u001b[43m)\u001b[49m\n\u001b[1;32m   1049\u001b[0m \u001b[38;5;28;01mreturn\u001b[39;00m construct_result(\n\u001b[1;32m   1050\u001b[0m     left, result, index\u001b[38;5;241m=\u001b[39mleft\u001b[38;5;241m.\u001b[39mindex, name\u001b[38;5;241m=\u001b[39mres_name, dtype\u001b[38;5;241m=\u001b[39m\u001b[38;5;28;01mNone\u001b[39;00m\n\u001b[1;32m   1051\u001b[0m )\n",
      "File \u001b[0;32m/usr/lib/python3/dist-packages/pandas/core/ops/__init__.py:968\u001b[0m, in \u001b[0;36m_arith_method_SERIES.<locals>.na_op\u001b[0;34m(x, y)\u001b[0m\n\u001b[1;32m    965\u001b[0m \u001b[38;5;28;01mimport\u001b[39;00m \u001b[38;5;21;01mpandas\u001b[39;00m\u001b[38;5;21;01m.\u001b[39;00m\u001b[38;5;21;01mcore\u001b[39;00m\u001b[38;5;21;01m.\u001b[39;00m\u001b[38;5;21;01mcomputation\u001b[39;00m\u001b[38;5;21;01m.\u001b[39;00m\u001b[38;5;21;01mexpressions\u001b[39;00m \u001b[38;5;28;01mas\u001b[39;00m \u001b[38;5;21;01mexpressions\u001b[39;00m\n\u001b[1;32m    967\u001b[0m \u001b[38;5;28;01mtry\u001b[39;00m:\n\u001b[0;32m--> 968\u001b[0m     result \u001b[38;5;241m=\u001b[39m \u001b[43mexpressions\u001b[49m\u001b[38;5;241;43m.\u001b[39;49m\u001b[43mevaluate\u001b[49m\u001b[43m(\u001b[49m\u001b[43mop\u001b[49m\u001b[43m,\u001b[49m\u001b[43m \u001b[49m\u001b[43mstr_rep\u001b[49m\u001b[43m,\u001b[49m\u001b[43m \u001b[49m\u001b[43mx\u001b[49m\u001b[43m,\u001b[49m\u001b[43m \u001b[49m\u001b[43my\u001b[49m\u001b[43m,\u001b[49m\u001b[43m \u001b[49m\u001b[38;5;241;43m*\u001b[39;49m\u001b[38;5;241;43m*\u001b[39;49m\u001b[43meval_kwargs\u001b[49m\u001b[43m)\u001b[49m\n\u001b[1;32m    969\u001b[0m \u001b[38;5;28;01mexcept\u001b[39;00m \u001b[38;5;167;01mTypeError\u001b[39;00m:\n\u001b[1;32m    970\u001b[0m     result \u001b[38;5;241m=\u001b[39m masked_arith_op(x, y, op)\n",
      "File \u001b[0;32m/usr/lib/python3/dist-packages/pandas/core/computation/expressions.py:221\u001b[0m, in \u001b[0;36mevaluate\u001b[0;34m(op, op_str, a, b, use_numexpr, **eval_kwargs)\u001b[0m\n\u001b[1;32m    219\u001b[0m use_numexpr \u001b[38;5;241m=\u001b[39m use_numexpr \u001b[38;5;129;01mand\u001b[39;00m _bool_arith_check(op_str, a, b)\n\u001b[1;32m    220\u001b[0m \u001b[38;5;28;01mif\u001b[39;00m use_numexpr:\n\u001b[0;32m--> 221\u001b[0m     \u001b[38;5;28;01mreturn\u001b[39;00m \u001b[43m_evaluate\u001b[49m\u001b[43m(\u001b[49m\u001b[43mop\u001b[49m\u001b[43m,\u001b[49m\u001b[43m \u001b[49m\u001b[43mop_str\u001b[49m\u001b[43m,\u001b[49m\u001b[43m \u001b[49m\u001b[43ma\u001b[49m\u001b[43m,\u001b[49m\u001b[43m \u001b[49m\u001b[43mb\u001b[49m\u001b[43m,\u001b[49m\u001b[43m \u001b[49m\u001b[38;5;241;43m*\u001b[39;49m\u001b[38;5;241;43m*\u001b[39;49m\u001b[43meval_kwargs\u001b[49m\u001b[43m)\u001b[49m\n\u001b[1;32m    222\u001b[0m \u001b[38;5;28;01mreturn\u001b[39;00m _evaluate_standard(op, op_str, a, b)\n",
      "File \u001b[0;32m/usr/lib/python3/dist-packages/pandas/core/computation/expressions.py:127\u001b[0m, in \u001b[0;36m_evaluate_numexpr\u001b[0;34m(op, op_str, a, b, truediv, reversed, **eval_kwargs)\u001b[0m\n\u001b[1;32m    124\u001b[0m     _store_test_result(result \u001b[38;5;129;01mis\u001b[39;00m \u001b[38;5;129;01mnot\u001b[39;00m \u001b[38;5;28;01mNone\u001b[39;00m)\n\u001b[1;32m    126\u001b[0m \u001b[38;5;28;01mif\u001b[39;00m result \u001b[38;5;129;01mis\u001b[39;00m \u001b[38;5;28;01mNone\u001b[39;00m:\n\u001b[0;32m--> 127\u001b[0m     result \u001b[38;5;241m=\u001b[39m \u001b[43m_evaluate_standard\u001b[49m\u001b[43m(\u001b[49m\u001b[43mop\u001b[49m\u001b[43m,\u001b[49m\u001b[43m \u001b[49m\u001b[43mop_str\u001b[49m\u001b[43m,\u001b[49m\u001b[43m \u001b[49m\u001b[43ma\u001b[49m\u001b[43m,\u001b[49m\u001b[43m \u001b[49m\u001b[43mb\u001b[49m\u001b[43m)\u001b[49m\n\u001b[1;32m    129\u001b[0m \u001b[38;5;28;01mreturn\u001b[39;00m result\n",
      "File \u001b[0;32m/usr/lib/python3/dist-packages/pandas/core/computation/expressions.py:70\u001b[0m, in \u001b[0;36m_evaluate_standard\u001b[0;34m(op, op_str, a, b, **eval_kwargs)\u001b[0m\n\u001b[1;32m     68\u001b[0m     _store_test_result(\u001b[38;5;28;01mFalse\u001b[39;00m)\n\u001b[1;32m     69\u001b[0m \u001b[38;5;28;01mwith\u001b[39;00m np\u001b[38;5;241m.\u001b[39merrstate(\u001b[38;5;28mall\u001b[39m\u001b[38;5;241m=\u001b[39m\u001b[38;5;124m\"\u001b[39m\u001b[38;5;124mignore\u001b[39m\u001b[38;5;124m\"\u001b[39m):\n\u001b[0;32m---> 70\u001b[0m     \u001b[38;5;28;01mreturn\u001b[39;00m \u001b[43mop\u001b[49m\u001b[43m(\u001b[49m\u001b[43ma\u001b[49m\u001b[43m,\u001b[49m\u001b[43m \u001b[49m\u001b[43mb\u001b[49m\u001b[43m)\u001b[49m\n",
      "\u001b[0;31mValueError\u001b[0m: operands could not be broadcast together with shapes (40,) (39,) "
     ]
    }
   ],
   "source": [
    "\n",
    "def dist(x1,x2,y1,y2,z1,z2):\n",
    "    return np.sqrt((x1-x2)**2 + (y1-y2)**2 + (z1-z2)**2)\n",
    "bins = np.linspace(0,200,40)\n",
    "\n",
    "dd_n = 0\n",
    "dr_n = 0\n",
    "\n",
    "jj = [0]\n",
    "dj =1000\n",
    "xi = 0\n",
    "ff = 0\n",
    "\n",
    "for rr,mm in tqdm(enumerate(jj)):\n",
    "    ll = (xx['x'] < mm +dj).__and__(xx['x'] >= mm).__and__(xx['y'] < 500).__and__(xx['y'] >=0).__and__(xx['z'] <500).__and__(xx['z'] >=0) \n",
    "    tt = xx.loc[ll]\n",
    "    x ,y ,z = tt['x'].to_numpy() , tt['y'].to_numpy() , tt['z'].to_numpy() \n",
    "    for ii in tqdm(range(len(x))): # range(len(x_0))\n",
    "        dd = dist(x[ii],x[ii+1:],y[ii],y[ii+1:],z[ii],z[ii+1:])\n",
    "        kk = pd.cut(dd,bins)\n",
    "        dd_n += kk.describe()['counts']\n",
    "\n",
    "    DR_x = stats.uniform(x.min(),x.max()).rvs(len(x)*5)\n",
    "    DR_y = stats.uniform(y.min(),y.max()).rvs(len(y)*5)\n",
    "    DR_z = stats.uniform(z.min(),z.max()).rvs(len(z)*5)\n",
    "\n",
    "\n",
    "\n",
    "    for ii in tqdm(range(len(DR_x))):\n",
    "        dr = dist(DR_x[ii],DR_x[ii+1:],DR_y[ii],DR_y[ii+1:],DR_z[ii],DR_z[ii+1:])\n",
    "        kk = pd.cut(dr,bins)\n",
    "        dr_n += kk.describe()['counts']\n",
    "    nndr = (len(DR_x)*(len(DR_x)-1))\n",
    "    nndd = (len(x)*(len(x)-1))\n",
    "    nor = nndr/nndd\n",
    "    ff = nor*(dd_n/dr_n) -1\n",
    "    xi += ff\n",
    "\n",
    "ss = (bins[1:] + bins[:-1])/2 \n",
    "plt.plot(ss,xi*ss*ss,'ro')"
   ]
  },
  {
   "cell_type": "code",
   "execution_count": 68,
   "id": "1f1cf189",
   "metadata": {},
   "outputs": [
    {
     "data": {
      "text/plain": [
       "[<matplotlib.lines.Line2D at 0x7f7c60d87550>]"
      ]
     },
     "execution_count": 68,
     "metadata": {},
     "output_type": "execute_result"
    },
    {
     "data": {
      "image/png": "[encoded data removed]",
      "text/plain": [
       "<Figure size 640x480 with 1 Axes>"
      ]
     },
     "metadata": {},
     "output_type": "display_data"
    }
   ],
   "source": [
    "ss = (bins[1:] + bins[:-1])/2 \n",
    "ss = np.append(ss,200)\n",
    "\n",
    "plt.plot(ss,xi,'ro')"
   ]
  },
  {
   "cell_type": "code",
   "execution_count": 49,
   "id": "941890f3",
   "metadata": {},
   "outputs": [
    {
     "data": {
      "text/plain": [
       "[<matplotlib.lines.Line2D at 0x7f7c65547460>]"
      ]
     },
     "execution_count": 49,
     "metadata": {},
     "output_type": "execute_result"
    },
    {
     "data": {
      "image/png": "[encoded data removed]",
      "text/plain": [
       "<Figure size 640x480 with 1 Axes>"
      ]
     },
     "metadata": {},
     "output_type": "display_data"
    }
   ],
   "source": [
    "ss = (bins[1:] + bins[:-1])/2 \n",
    "ss = np.append(0,ss)\n",
    "\n",
    "plt.plot(ss,xx*ss*ss,'ro')"
   ]
  },
  {
   "cell_type": "code",
   "execution_count": 45,
   "id": "62c48e9a",
   "metadata": {},
   "outputs": [
    {
     "data": {
      "text/plain": [
       "[<matplotlib.lines.Line2D at 0x7f7c656144c0>]"
      ]
     },
     "execution_count": 45,
     "metadata": {},
     "output_type": "execute_result"
    },
    {
     "data": {
      "image/png": "[encoded data removed]",
      "text/plain": [
       "<Figure size 640x480 with 1 Axes>"
      ]
     },
     "metadata": {},
     "output_type": "display_data"
    }
   ],
   "source": [
    "# xi = ff.mean(axis=0)\n",
    "# xi\n",
    "ff =ff-1\n",
    "xi = ff.mean(axis=0)\n",
    "ss = (bins[1:] + bins[:-1])/2 \n",
    "ss = np.append(0,ss)\n",
    "\n",
    "plt.plot(bins,xi*ss*ss,'ro')"
   ]
  },
  {
   "cell_type": "code",
   "execution_count": 83,
   "id": "b3c4d4a7",
   "metadata": {},
   "outputs": [
    {
     "data": {
      "text/plain": [
       "array([ 9.38694036,  1.99500027,  0.92915319,  0.57305321,  0.40188535,\n",
       "        0.33046649,  0.26669049,  0.2323663 ,  0.21040991,  0.19569904,\n",
       "        0.19517756,  0.18938386,  0.17670003,  0.18511402,  0.16952077,\n",
       "        0.16167376,  0.16329495,  0.16370807,  0.16732687,  0.16163098,\n",
       "        0.16632987,  0.16044541,  0.15959443,  0.15747005,  0.15702339,\n",
       "        0.15169432,  0.14829311,  0.14800154,  0.14832106,  0.15133225,\n",
       "        0.14888757,  0.14730332,  0.14535323,  0.14147891,  0.14314086,\n",
       "        0.14233873,  0.13519814,  0.13515915,  0.134694  , -0.02181195])"
      ]
     },
     "execution_count": 83,
     "metadata": {},
     "output_type": "execute_result"
    }
   ],
   "source": [
    "xi"
   ]
  },
  {
   "cell_type": "code",
   "execution_count": 75,
   "id": "b18dd36f",
   "metadata": {},
   "outputs": [
    {
     "data": {
      "text/plain": [
       "array([ 9.52342167,  1.91845853,  0.87884987,  0.57003227,  0.40235788,\n",
       "        0.31569734,  0.25972516,  0.22654594,  0.209056  ,  0.19230987,\n",
       "        0.19271223,  0.19097852,  0.17629257,  0.17960746,  0.17037424,\n",
       "        0.16989739,  0.16853164,  0.16855684,  0.17071266,  0.17111911,\n",
       "        0.17082397,  0.16614441,  0.16570188,  0.16592048,  0.16519027,\n",
       "        0.16025931,  0.16093883,  0.16122395,  0.16071453,  0.16355542,\n",
       "        0.16195264,  0.16243785,  0.16396925,  0.15875369,  0.16134326,\n",
       "        0.16088572,  0.15685093,  0.15785232,  0.15689759, -0.0121982 ])"
      ]
     },
     "execution_count": 75,
     "metadata": {},
     "output_type": "execute_result"
    }
   ],
   "source": [
    "xi"
   ]
  },
  {
   "cell_type": "code",
   "execution_count": null,
   "id": "bb99fca5",
   "metadata": {},
   "outputs": [],
   "source": [
    "dd_n =  dd_n\n",
    "dr_n =  dr_n\n",
    "# x ,y ,z = tt['x'].to_numpy() , tt['y'].to_numpy() , tt['z'].to_numpy() \n",
    "ff = (dd_n/dr_n)\n",
    "\n",
    "ff = pd.DataFrame()\n",
    "ff.to_csv(r'/home/jin/바탕화면/2PCF_x_0_3000Mpc.txt',index=False,sep='\\t')\n",
    "\n",
    "# RR = pd.DataFrame() ## 1. 데이터 초기화\n",
    "# RR['X'] = DR_x\n",
    "# RR['Y'] = DR_y\n",
    "# RR['Z'] = DR_z \n",
    "# RR.to_csv(r'/home/jin/바탕화면/FCFC-main/mock3_RR.txt',index=False,sep='\\t')\n",
    "\n",
    "# xi = ff/nor -1\n",
    "# xi = xi['counts'].dropna()"
   ]
  },
  {
   "cell_type": "code",
   "execution_count": 24,
   "id": "70e39bc7",
   "metadata": {},
   "outputs": [
    {
     "data": {
      "application/vnd.jupyter.widget-view+json": {
       "model_id": "217116b5aa2843f18fadc9342e672ae1",
       "version_major": 2,
       "version_minor": 0
      },
      "text/plain": [
       "  0%|          | 0/400960 [00:00<?, ?it/s]"
      ]
     },
     "metadata": {},
     "output_type": "display_data"
    },
    {
     "ename": "NameError",
     "evalue": "name 'dd_r' is not defined",
     "output_type": "error",
     "traceback": [
      "\u001b[0;31m---------------------------------------------------------------------------\u001b[0m",
      "\u001b[0;31mNameError\u001b[0m                                 Traceback (most recent call last)",
      "Cell \u001b[0;32mIn[24], line 24\u001b[0m\n\u001b[1;32m     21\u001b[0m     kk \u001b[38;5;241m=\u001b[39m pd\u001b[38;5;241m.\u001b[39mcut(dr,bins)\n\u001b[1;32m     22\u001b[0m     dr_n \u001b[38;5;241m+\u001b[39m\u001b[38;5;241m=\u001b[39m kk\u001b[38;5;241m.\u001b[39mdescribe()\n\u001b[0;32m---> 24\u001b[0m \u001b[38;5;28mprint\u001b[39m(\u001b[43mdd_r\u001b[49m)\n",
      "\u001b[0;31mNameError\u001b[0m: name 'dd_r' is not defined"
     ]
    }
   ],
   "source": [
    "dr_n = 0 \n",
    "x ,y ,z = tt['x'].to_numpy() , tt['y'].to_numpy() , tt['z'].to_numpy() \n",
    "DR_x = stats.uniform(x.min(),x.max()).rvs(len(x)*5)\n",
    "DR_y = stats.uniform(y.min(),y.max()).rvs(len(y)*5)\n",
    "DR_z = stats.uniform(z.min(),z.max()).rvs(len(z)*5)\n",
    "\n",
    "DR_x0 = DR_x \n",
    "DR_y0 = DR_y \n",
    "DR_z0 = DR_z \n",
    "\n",
    "for i in tqdm(range(len(DR_x0))):\n",
    "    DR_xi = DR_x0[i]\n",
    "    DR_yi = DR_y0[i]\n",
    "    DR_zi = DR_z0[i]\n",
    "\n",
    "    DR_x = np.delete(DR_x ,0,0)\n",
    "    DR_y  = np.delete(DR_y,0,0)\n",
    "    DR_z = np.delete(DR_z,0,0)\n",
    "\n",
    "    dr = dist(DR_xi,DR_x,DR_yi,DR_y,DR_zi,DR_z)\n",
    "    kk = pd.cut(dr,bins)\n",
    "    dr_n += kk.describe()\n",
    "\n"
   ]
  },
  {
   "cell_type": "code",
   "execution_count": 27,
   "id": "277d0cfc",
   "metadata": {},
   "outputs": [],
   "source": [
    "x ,y ,z = tt['x'].to_numpy() , tt['y'].to_numpy() , tt['z'].to_numpy() "
   ]
  },
  {
   "cell_type": "code",
   "execution_count": 40,
   "id": "527207af",
   "metadata": {},
   "outputs": [
    {
     "data": {
      "text/plain": [
       "0.23529411764705888"
      ]
     },
     "execution_count": 40,
     "metadata": {},
     "output_type": "execute_result"
    }
   ],
   "source": [
    "ff = ((dd_n/dr_n)['counts'] -1 )\n",
    "ff[1]"
   ]
  },
  {
   "cell_type": "code",
   "execution_count": 14,
   "id": "549c7fa1",
   "metadata": {},
   "outputs": [],
   "source": [
    "# x ,y ,z = tt['x'].to_numpy() , tt['y'].to_numpy() , tt['z'].to_numpy() \n",
    "ff = (dd_n/dr_n)\n",
    "nor = (len(x)*(len(x)-1))/(((len(x)*3)*(len(x)*3-1)))\n",
    "\n",
    "\n",
    "xi = ff/nor -1\n",
    "xi = xi['counts'].dropna()\n",
    "bins = np.linspace(0,200,40)\n",
    "ss = (bins[1:] + bins[:-1])/2"
   ]
  },
  {
   "cell_type": "code",
   "execution_count": 24,
   "id": "58174e7b",
   "metadata": {},
   "outputs": [
    {
     "data": {
      "text/plain": [
       "0.03587920210854012"
      ]
     },
     "execution_count": 24,
     "metadata": {},
     "output_type": "execute_result"
    }
   ],
   "source": []
  },
  {
   "cell_type": "code",
   "execution_count": 15,
   "id": "79284f0d",
   "metadata": {},
   "outputs": [
    {
     "data": {
      "text/plain": [
       "[<matplotlib.lines.Line2D at 0x7f49c5c40fd0>]"
      ]
     },
     "execution_count": 15,
     "metadata": {},
     "output_type": "execute_result"
    },
    {
     "data": {
      "image/png": "[encoded data removed]",
      "text/plain": [
       "<Figure size 640x480 with 1 Axes>"
      ]
     },
     "metadata": {},
     "output_type": "display_data"
    }
   ],
   "source": [
    "plt.plot(bins,bins*bins*xi)"
   ]
  },
  {
   "cell_type": "code",
   "execution_count": null,
   "id": "e9ed42bf",
   "metadata": {},
   "outputs": [],
   "source": []
  }
 ],
 "metadata": {
  "kernelspec": {
   "display_name": "Python 3 (ipykernel)",
   "language": "python",
   "name": "python3"
  },
  "language_info": {
   "codemirror_mode": {
    "name": "ipython",
    "version": 3
   },
   "file_extension": ".py",
   "mimetype": "text/x-python",
   "name": "python",
   "nbconvert_exporter": "python",
   "pygments_lexer": "ipython3",
   "version": "3.8.10"
  }
 },
 "nbformat": 4,
 "nbformat_minor": 5
}
