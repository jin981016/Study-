{
 "cells": [
  {
   "cell_type": "code",
   "execution_count": 4,
   "id": "500a8f8d",
   "metadata": {},
   "outputs": [
    {
     "name": "stdout",
     "output_type": "stream",
     "text": [
      "20.38초 만에 작업이 완료\n"
     ]
    }
   ],
   "source": [
    "import numpy as np\n",
    "import matplotlib.pyplot as plt\n",
    "import pandas as pd\n",
    "from scipy.odr import *\n",
    "from scipy import linalg\n",
    "from scipy import stats\n",
    "from scipy import optimize\n",
    "from celluloid import Camera\n",
    "import time\n",
    "from tqdm.notebook import tqdm\n",
    "from multiprocessing import Process\n",
    "All = pd.read_csv(r'/home/jin/바탕화면/data WD/all.txt',delim_whitespace=True,header=0)\n",
    "#r'C:/home/jin/바탕화면/data WD/all.txt'\n",
    "\n",
    "plt.rcParams['font.size'] = '16'\n",
    "T,R,M,Rerr, Merr,Terr = All['Teff'].to_numpy(),All['Radius'].to_numpy() ,All['Mass'].to_numpy() ,All['Rerr'].to_numpy() ,All['Merr'].to_numpy(),All['Terr'].to_numpy()\n",
    "\n",
    "def task_multirun(pp):  \n",
    "    np.random.seed(seed=pp)\n",
    "    new_M = np.zeros(len(Merr))\n",
    "    new_R = np.zeros(len(Rerr))\n",
    "    new_T = np.zeros(len(Terr))\n",
    "    for i, dM in enumerate(Merr):\n",
    "        delM = stats.norm.rvs(loc=0,scale=dM)\n",
    "        if (delM+ M[i])<= 0 :\n",
    "            delM = 0.5* delM\n",
    "        new_M[i] = M[i]+ delM\n",
    "    for i, dR in enumerate(Rerr):\n",
    "        delR = stats.norm.rvs(loc=0,scale=dR)\n",
    "        if (delR+ R[i])<= 0 :\n",
    "            delR = 0.5* delR        \n",
    "        new_R[i] = R[i]+ delR   \n",
    "        \n",
    "    for i, dT in enumerate(Terr):\n",
    "        delT = stats.norm.rvs(loc=0,scale=dT)\n",
    "        if (delT+ T[i])<= 0 :\n",
    "            delT = 0.5* delT        \n",
    "        new_T[i] = T[i]+ delT     \n",
    "\n",
    "    log_M = np.log10(new_M)\n",
    "    log_R = np.log10(new_R)\n",
    "    x = np.row_stack((log_M,new_T))\n",
    "    N = 100\n",
    "    \n",
    "    \n",
    "    TT = np.logspace(-5,5,N)\n",
    "    cc = np.linspace(0,1,N)\n",
    "    a_all_Model3 = np.zeros(N)\n",
    "    c_T_all_Model3 = np.zeros(N)\n",
    "    b_M_all_Model3 = np.zeros(N)\n",
    "    resM3 = np.zeros((N,N))\n",
    "    beta3 = np.zeros(N)\n",
    "\n",
    "    c_T_all_Model4 = np.zeros(N)\n",
    "    b_M_all_Model4 = np.zeros(N)\n",
    "    a_all_Model4 = np.zeros(N)\n",
    "    resM4 = np.zeros((N,N))\n",
    "    beta4 = np.zeros(N)\n",
    "\n",
    "    for ii, t0 in tqdm(enumerate(TT)):\n",
    "        def linfit_Model3(beta,x):\n",
    "            return beta[0] + beta[1]*x[0] + beta[2]*np.log10(1+x[1]/t0)\n",
    "        def linfit_Model4(beta,x):\n",
    "            return beta[0] + beta[1]*x[0] + np.log10(1+(x[1]/t0)**beta[2])\n",
    "        data = RealData(x,log_R)  \n",
    "        linmod_Model3 = Model(linfit_Model3)\n",
    "        linmod_Model4 = Model(linfit_Model4)  \n",
    "        odr_model3 = ODR(data,linmod_Model3,beta0=[1.,1.,1.])\n",
    "        odr_model4 = ODR(data,linmod_Model4,beta0=[1.,1.,1.])  \n",
    "        out_model3=odr_model3.run()\n",
    "        out_model4=odr_model4.run()\n",
    "        a_all_Model3[ii],b_M_all_Model3[ii],c_T_all_Model3[ii] = out_model3.beta\n",
    "        a_all_Model4[ii],b_M_all_Model4[ii],c_T_all_Model4[ii] = out_model4.beta\n",
    "        for jj, beta in enumerate(cc):\n",
    "            R_test_Model3 = np.log10(new_R/(1+new_T/t0)**(beta))\n",
    "            R_test_Model4 = np.log10(new_R/(1+(new_T/t0)**(beta)))\n",
    "            resM3[ii,jj] = np.std(R_test_Model3 -b_M_all_Model3[ii]*log_M)\n",
    "            resM4[ii,jj] = np.std(R_test_Model4-b_M_all_Model4[ii]*log_M)\n",
    "        mm3 = resM3[ii,:].argmin()\n",
    "        beta3[ii] = cc[mm3]\n",
    "\n",
    "        mm4 = resM4[ii,:].argmin()\n",
    "        beta4[ii] = cc[mm4]\n",
    "\n",
    "    tt_m3 = np.unravel_index(resM3.argmin(),resM3.shape)\n",
    "    qq , beta0_m3 = tt_m3\n",
    "\n",
    "    tt_m4 = np.unravel_index(resM4.argmin(),resM4.shape)\n",
    "    kk , beta0_m4= tt_m4\n",
    "    \n",
    "    R_m3 = a_all_Model3[qq]\n",
    "    alpha_m3 = b_M_all_Model3[qq]\n",
    "    beta_m3 = cc[beta0_m3] \n",
    "    t_m3 = TT[qq]\n",
    "    res_mm3 = resM3[qq,beta0_m3]\n",
    "    \n",
    "    Relation_2 = np.array([[R_m3 ,alpha_m3 ,beta_m3 , t_m3 , res_mm3]])\n",
    "    \n",
    "    R_m4= a_all_Model4[kk]\n",
    "    alpha_m4  = b_M_all_Model4[kk]\n",
    "    beta_m4 = cc[beta0_m4]\n",
    "    t_m4 = TT[kk]\n",
    "    res_mm4 = resM4[kk,beta0_m4]\n",
    "    \n",
    "    Relation_3 = np.array([[R_m4 ,alpha_m4 ,beta_m4 , t_m4 , res_mm4]])\n",
    "    \n",
    "    file_1.open('/home/jin/바탕화면/relation_2/{}_number_data.txt'.format(pp))\n",
    "    \n",
    "    \n",
    "    np.savetxt('/home/jin/바탕화면/relation_2/{}_number_data.txt'.format(pp), Relation_2,delimiter=',')\n",
    "    np.savetxt('/home/jin/바탕화면/relation_3/{}_number_data.txt'.format(pp),Relation_3,delimiter=',')\n",
    " \n",
    "\n",
    "\n",
    "if __name__ == '__main__':\n",
    "    iteration = 100\n",
    "    start = time.perf_counter()\n",
    " \n",
    "    processes = []\n",
    "    for ii in range(1,iteration+1):\n",
    "        p = Process(target=task_multirun,args=[ii]) ## 각 프로세스에 작업을 등록\n",
    "        p.start()\n",
    "        processes.append(p)\n",
    " \n",
    "    for process in processes:\n",
    "        process.join()\n",
    "    \n",
    "    finish = time.perf_counter()\n",
    " \n",
    "    print(f'{round(finish-start,2)}초 만에 작업이 완료')"
   ]
  },
  {
   "cell_type": "code",
   "execution_count": 3,
   "id": "57b9193b",
   "metadata": {},
   "outputs": [],
   "source": [
    "import glob\n",
    "import numpy as np\n",
    "import matplotlib.pyplot as plt\n",
    "import pandas as pd\n",
    "from scipy.odr import *\n",
    "from scipy import linalg\n",
    "from scipy import stats\n",
    "from scipy import optimize\n",
    "from celluloid import Camera\n",
    "import time\n",
    "from tqdm.notebook import tqdm\n",
    "from multiprocessing import Process"
   ]
  },
  {
   "cell_type": "code",
   "execution_count": 4,
   "id": "35524db7",
   "metadata": {},
   "outputs": [],
   "source": [
    "merge_df = pd.DataFrame()\n",
    "file_format = \".txt\" \n",
    "file_path = \"/home/jin/바탕화면/test\"\n",
    "file = np.sort(glob.glob(f\"{file_path}/*{file_format}\"))\n",
    "\n",
    "for file_name in file:\n",
    "    columns = [\"R0\", \"Alpha\",\"Beta\",\"T_0\",\"STD\"]\n",
    "    file_df = pd.read_csv(file_name, encoding='utf-8',names=columns)\n",
    "    temp_df = pd.DataFrame(file_df, columns=columns)\n",
    "    merge_df = merge_df.append(temp_df) # ingnore_index = 기존 1, 2, 3, 4 번호 무시"
   ]
  },
  {
   "cell_type": "code",
   "execution_count": null,
   "id": "752a8c9b",
   "metadata": {},
   "outputs": [],
   "source": []
  },
  {
   "cell_type": "code",
   "execution_count": 5,
   "id": "95b23957",
   "metadata": {},
   "outputs": [
    {
     "data": {
      "text/plain": [
       "(array([ 1.,  0.,  1.,  2., 12., 21., 27., 13., 17.,  6.]),\n",
       " array([-1.20029791, -1.16373204, -1.12716617, -1.0906003 , -1.05403443,\n",
       "        -1.01746856, -0.98090269, -0.94433682, -0.90777095, -0.87120508,\n",
       "        -0.83463921]),\n",
       " <a list of 10 Patch objects>)"
      ]
     },
     "execution_count": 5,
     "metadata": {},
     "output_type": "execute_result"
    },
    {
     "data": {
      "image/png": "[encoded data removed]",
      "text/plain": [
       "<Figure size 640x480 with 1 Axes>"
      ]
     },
     "metadata": {},
     "output_type": "display_data"
    }
   ],
   "source": [
    "plt.hist(merge_df[\"Alpha\"])"
   ]
  }
 ],
 "metadata": {
  "kernelspec": {
   "display_name": "Python 3 (ipykernel)",
   "language": "python",
   "name": "python3"
  },
  "language_info": {
   "codemirror_mode": {
    "name": "ipython",
    "version": 3
   },
   "file_extension": ".py",
   "mimetype": "text/x-python",
   "name": "python",
   "nbconvert_exporter": "python",
   "pygments_lexer": "ipython3",
   "version": "3.8.10"
  }
 },
 "nbformat": 4,
 "nbformat_minor": 5
}
